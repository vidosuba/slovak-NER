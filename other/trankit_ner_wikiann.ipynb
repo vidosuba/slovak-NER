{
  "nbformat": 4,
  "nbformat_minor": 0,
  "metadata": {
    "colab": {
      "name": "trankit_ner_wikiann.ipynb",
      "provenance": [],
      "collapsed_sections": [],
      "toc_visible": true,
      "include_colab_link": true
    },
    "kernelspec": {
      "name": "python3",
      "display_name": "Python 3"
    },
    "accelerator": "GPU",
    "widgets": {
      "application/vnd.jupyter.widget-state+json": {
        "281bd2e19fa34dfebd5a0d67ab0ef34d": {
          "model_module": "@jupyter-widgets/controls",
          "model_name": "HBoxModel",
          "state": {
            "_view_name": "HBoxView",
            "_dom_classes": [],
            "_model_name": "HBoxModel",
            "_view_module": "@jupyter-widgets/controls",
            "_model_module_version": "1.5.0",
            "_view_count": null,
            "_view_module_version": "1.5.0",
            "box_style": "",
            "layout": "IPY_MODEL_18e45139278542d08c60ab2ef516d930",
            "_model_module": "@jupyter-widgets/controls",
            "children": [
              "IPY_MODEL_f6c98b6f807347189a808b4764516798",
              "IPY_MODEL_ce6b223aacb04964bc7e017c3c921fe3"
            ]
          }
        },
        "18e45139278542d08c60ab2ef516d930": {
          "model_module": "@jupyter-widgets/base",
          "model_name": "LayoutModel",
          "state": {
            "_view_name": "LayoutView",
            "grid_template_rows": null,
            "right": null,
            "justify_content": null,
            "_view_module": "@jupyter-widgets/base",
            "overflow": null,
            "_model_module_version": "1.2.0",
            "_view_count": null,
            "flex_flow": null,
            "width": null,
            "min_width": null,
            "border": null,
            "align_items": null,
            "bottom": null,
            "_model_module": "@jupyter-widgets/base",
            "top": null,
            "grid_column": null,
            "overflow_y": null,
            "overflow_x": null,
            "grid_auto_flow": null,
            "grid_area": null,
            "grid_template_columns": null,
            "flex": null,
            "_model_name": "LayoutModel",
            "justify_items": null,
            "grid_row": null,
            "max_height": null,
            "align_content": null,
            "visibility": null,
            "align_self": null,
            "height": null,
            "min_height": null,
            "padding": null,
            "grid_auto_rows": null,
            "grid_gap": null,
            "max_width": null,
            "order": null,
            "_view_module_version": "1.2.0",
            "grid_template_areas": null,
            "object_position": null,
            "object_fit": null,
            "grid_auto_columns": null,
            "margin": null,
            "display": null,
            "left": null
          }
        },
        "f6c98b6f807347189a808b4764516798": {
          "model_module": "@jupyter-widgets/controls",
          "model_name": "FloatProgressModel",
          "state": {
            "_view_name": "ProgressView",
            "style": "IPY_MODEL_d7b87793e5a7409295569f098f4d3f1d",
            "_dom_classes": [],
            "description": "Downloading: 100%",
            "_model_name": "FloatProgressModel",
            "bar_style": "success",
            "max": 5069051,
            "_view_module": "@jupyter-widgets/controls",
            "_model_module_version": "1.5.0",
            "value": 5069051,
            "_view_count": null,
            "_view_module_version": "1.5.0",
            "orientation": "horizontal",
            "min": 0,
            "description_tooltip": null,
            "_model_module": "@jupyter-widgets/controls",
            "layout": "IPY_MODEL_df7eb884df5e41549b00a33a60956ba4"
          }
        },
        "ce6b223aacb04964bc7e017c3c921fe3": {
          "model_module": "@jupyter-widgets/controls",
          "model_name": "HTMLModel",
          "state": {
            "_view_name": "HTMLView",
            "style": "IPY_MODEL_e29251191df5459ab631dad636d6e854",
            "_dom_classes": [],
            "description": "",
            "_model_name": "HTMLModel",
            "placeholder": "​",
            "_view_module": "@jupyter-widgets/controls",
            "_model_module_version": "1.5.0",
            "value": " 5.07M/5.07M [00:01&lt;00:00, 3.70MB/s]",
            "_view_count": null,
            "_view_module_version": "1.5.0",
            "description_tooltip": null,
            "_model_module": "@jupyter-widgets/controls",
            "layout": "IPY_MODEL_cee9ae20a2e845af91d426f8d4641437"
          }
        },
        "d7b87793e5a7409295569f098f4d3f1d": {
          "model_module": "@jupyter-widgets/controls",
          "model_name": "ProgressStyleModel",
          "state": {
            "_view_name": "StyleView",
            "_model_name": "ProgressStyleModel",
            "description_width": "initial",
            "_view_module": "@jupyter-widgets/base",
            "_model_module_version": "1.5.0",
            "_view_count": null,
            "_view_module_version": "1.2.0",
            "bar_color": null,
            "_model_module": "@jupyter-widgets/controls"
          }
        },
        "df7eb884df5e41549b00a33a60956ba4": {
          "model_module": "@jupyter-widgets/base",
          "model_name": "LayoutModel",
          "state": {
            "_view_name": "LayoutView",
            "grid_template_rows": null,
            "right": null,
            "justify_content": null,
            "_view_module": "@jupyter-widgets/base",
            "overflow": null,
            "_model_module_version": "1.2.0",
            "_view_count": null,
            "flex_flow": null,
            "width": null,
            "min_width": null,
            "border": null,
            "align_items": null,
            "bottom": null,
            "_model_module": "@jupyter-widgets/base",
            "top": null,
            "grid_column": null,
            "overflow_y": null,
            "overflow_x": null,
            "grid_auto_flow": null,
            "grid_area": null,
            "grid_template_columns": null,
            "flex": null,
            "_model_name": "LayoutModel",
            "justify_items": null,
            "grid_row": null,
            "max_height": null,
            "align_content": null,
            "visibility": null,
            "align_self": null,
            "height": null,
            "min_height": null,
            "padding": null,
            "grid_auto_rows": null,
            "grid_gap": null,
            "max_width": null,
            "order": null,
            "_view_module_version": "1.2.0",
            "grid_template_areas": null,
            "object_position": null,
            "object_fit": null,
            "grid_auto_columns": null,
            "margin": null,
            "display": null,
            "left": null
          }
        },
        "e29251191df5459ab631dad636d6e854": {
          "model_module": "@jupyter-widgets/controls",
          "model_name": "DescriptionStyleModel",
          "state": {
            "_view_name": "StyleView",
            "_model_name": "DescriptionStyleModel",
            "description_width": "",
            "_view_module": "@jupyter-widgets/base",
            "_model_module_version": "1.5.0",
            "_view_count": null,
            "_view_module_version": "1.2.0",
            "_model_module": "@jupyter-widgets/controls"
          }
        },
        "cee9ae20a2e845af91d426f8d4641437": {
          "model_module": "@jupyter-widgets/base",
          "model_name": "LayoutModel",
          "state": {
            "_view_name": "LayoutView",
            "grid_template_rows": null,
            "right": null,
            "justify_content": null,
            "_view_module": "@jupyter-widgets/base",
            "overflow": null,
            "_model_module_version": "1.2.0",
            "_view_count": null,
            "flex_flow": null,
            "width": null,
            "min_width": null,
            "border": null,
            "align_items": null,
            "bottom": null,
            "_model_module": "@jupyter-widgets/base",
            "top": null,
            "grid_column": null,
            "overflow_y": null,
            "overflow_x": null,
            "grid_auto_flow": null,
            "grid_area": null,
            "grid_template_columns": null,
            "flex": null,
            "_model_name": "LayoutModel",
            "justify_items": null,
            "grid_row": null,
            "max_height": null,
            "align_content": null,
            "visibility": null,
            "align_self": null,
            "height": null,
            "min_height": null,
            "padding": null,
            "grid_auto_rows": null,
            "grid_gap": null,
            "max_width": null,
            "order": null,
            "_view_module_version": "1.2.0",
            "grid_template_areas": null,
            "object_position": null,
            "object_fit": null,
            "grid_auto_columns": null,
            "margin": null,
            "display": null,
            "left": null
          }
        },
        "affe4a45ac57454cbca0e8a7906f8a5e": {
          "model_module": "@jupyter-widgets/controls",
          "model_name": "HBoxModel",
          "state": {
            "_view_name": "HBoxView",
            "_dom_classes": [],
            "_model_name": "HBoxModel",
            "_view_module": "@jupyter-widgets/controls",
            "_model_module_version": "1.5.0",
            "_view_count": null,
            "_view_module_version": "1.5.0",
            "box_style": "",
            "layout": "IPY_MODEL_e820facdaa884a369f116cba23b16bea",
            "_model_module": "@jupyter-widgets/controls",
            "children": [
              "IPY_MODEL_738c023c364543c4addf31e5fcd331f1",
              "IPY_MODEL_46e7036657a24904bc6459918b15ad56"
            ]
          }
        },
        "e820facdaa884a369f116cba23b16bea": {
          "model_module": "@jupyter-widgets/base",
          "model_name": "LayoutModel",
          "state": {
            "_view_name": "LayoutView",
            "grid_template_rows": null,
            "right": null,
            "justify_content": null,
            "_view_module": "@jupyter-widgets/base",
            "overflow": null,
            "_model_module_version": "1.2.0",
            "_view_count": null,
            "flex_flow": null,
            "width": null,
            "min_width": null,
            "border": null,
            "align_items": null,
            "bottom": null,
            "_model_module": "@jupyter-widgets/base",
            "top": null,
            "grid_column": null,
            "overflow_y": null,
            "overflow_x": null,
            "grid_auto_flow": null,
            "grid_area": null,
            "grid_template_columns": null,
            "flex": null,
            "_model_name": "LayoutModel",
            "justify_items": null,
            "grid_row": null,
            "max_height": null,
            "align_content": null,
            "visibility": null,
            "align_self": null,
            "height": null,
            "min_height": null,
            "padding": null,
            "grid_auto_rows": null,
            "grid_gap": null,
            "max_width": null,
            "order": null,
            "_view_module_version": "1.2.0",
            "grid_template_areas": null,
            "object_position": null,
            "object_fit": null,
            "grid_auto_columns": null,
            "margin": null,
            "display": null,
            "left": null
          }
        },
        "738c023c364543c4addf31e5fcd331f1": {
          "model_module": "@jupyter-widgets/controls",
          "model_name": "FloatProgressModel",
          "state": {
            "_view_name": "ProgressView",
            "style": "IPY_MODEL_ee90933d1c464f09b05e532e58680523",
            "_dom_classes": [],
            "description": "Downloading: 100%",
            "_model_name": "FloatProgressModel",
            "bar_style": "success",
            "max": 512,
            "_view_module": "@jupyter-widgets/controls",
            "_model_module_version": "1.5.0",
            "value": 512,
            "_view_count": null,
            "_view_module_version": "1.5.0",
            "orientation": "horizontal",
            "min": 0,
            "description_tooltip": null,
            "_model_module": "@jupyter-widgets/controls",
            "layout": "IPY_MODEL_2eb9362c94b449da9019b497990d50c2"
          }
        },
        "46e7036657a24904bc6459918b15ad56": {
          "model_module": "@jupyter-widgets/controls",
          "model_name": "HTMLModel",
          "state": {
            "_view_name": "HTMLView",
            "style": "IPY_MODEL_e981ff020fb94180a6c3c9ee088d14ca",
            "_dom_classes": [],
            "description": "",
            "_model_name": "HTMLModel",
            "placeholder": "​",
            "_view_module": "@jupyter-widgets/controls",
            "_model_module_version": "1.5.0",
            "value": " 512/512 [00:00&lt;00:00, 1.11kB/s]",
            "_view_count": null,
            "_view_module_version": "1.5.0",
            "description_tooltip": null,
            "_model_module": "@jupyter-widgets/controls",
            "layout": "IPY_MODEL_c83b9c63fae549d49db0c4c14ffff371"
          }
        },
        "ee90933d1c464f09b05e532e58680523": {
          "model_module": "@jupyter-widgets/controls",
          "model_name": "ProgressStyleModel",
          "state": {
            "_view_name": "StyleView",
            "_model_name": "ProgressStyleModel",
            "description_width": "initial",
            "_view_module": "@jupyter-widgets/base",
            "_model_module_version": "1.5.0",
            "_view_count": null,
            "_view_module_version": "1.2.0",
            "bar_color": null,
            "_model_module": "@jupyter-widgets/controls"
          }
        },
        "2eb9362c94b449da9019b497990d50c2": {
          "model_module": "@jupyter-widgets/base",
          "model_name": "LayoutModel",
          "state": {
            "_view_name": "LayoutView",
            "grid_template_rows": null,
            "right": null,
            "justify_content": null,
            "_view_module": "@jupyter-widgets/base",
            "overflow": null,
            "_model_module_version": "1.2.0",
            "_view_count": null,
            "flex_flow": null,
            "width": null,
            "min_width": null,
            "border": null,
            "align_items": null,
            "bottom": null,
            "_model_module": "@jupyter-widgets/base",
            "top": null,
            "grid_column": null,
            "overflow_y": null,
            "overflow_x": null,
            "grid_auto_flow": null,
            "grid_area": null,
            "grid_template_columns": null,
            "flex": null,
            "_model_name": "LayoutModel",
            "justify_items": null,
            "grid_row": null,
            "max_height": null,
            "align_content": null,
            "visibility": null,
            "align_self": null,
            "height": null,
            "min_height": null,
            "padding": null,
            "grid_auto_rows": null,
            "grid_gap": null,
            "max_width": null,
            "order": null,
            "_view_module_version": "1.2.0",
            "grid_template_areas": null,
            "object_position": null,
            "object_fit": null,
            "grid_auto_columns": null,
            "margin": null,
            "display": null,
            "left": null
          }
        },
        "e981ff020fb94180a6c3c9ee088d14ca": {
          "model_module": "@jupyter-widgets/controls",
          "model_name": "DescriptionStyleModel",
          "state": {
            "_view_name": "StyleView",
            "_model_name": "DescriptionStyleModel",
            "description_width": "",
            "_view_module": "@jupyter-widgets/base",
            "_model_module_version": "1.5.0",
            "_view_count": null,
            "_view_module_version": "1.2.0",
            "_model_module": "@jupyter-widgets/controls"
          }
        },
        "c83b9c63fae549d49db0c4c14ffff371": {
          "model_module": "@jupyter-widgets/base",
          "model_name": "LayoutModel",
          "state": {
            "_view_name": "LayoutView",
            "grid_template_rows": null,
            "right": null,
            "justify_content": null,
            "_view_module": "@jupyter-widgets/base",
            "overflow": null,
            "_model_module_version": "1.2.0",
            "_view_count": null,
            "flex_flow": null,
            "width": null,
            "min_width": null,
            "border": null,
            "align_items": null,
            "bottom": null,
            "_model_module": "@jupyter-widgets/base",
            "top": null,
            "grid_column": null,
            "overflow_y": null,
            "overflow_x": null,
            "grid_auto_flow": null,
            "grid_area": null,
            "grid_template_columns": null,
            "flex": null,
            "_model_name": "LayoutModel",
            "justify_items": null,
            "grid_row": null,
            "max_height": null,
            "align_content": null,
            "visibility": null,
            "align_self": null,
            "height": null,
            "min_height": null,
            "padding": null,
            "grid_auto_rows": null,
            "grid_gap": null,
            "max_width": null,
            "order": null,
            "_view_module_version": "1.2.0",
            "grid_template_areas": null,
            "object_position": null,
            "object_fit": null,
            "grid_auto_columns": null,
            "margin": null,
            "display": null,
            "left": null
          }
        },
        "a1d44024990243adb17140b47341052a": {
          "model_module": "@jupyter-widgets/controls",
          "model_name": "HBoxModel",
          "state": {
            "_view_name": "HBoxView",
            "_dom_classes": [],
            "_model_name": "HBoxModel",
            "_view_module": "@jupyter-widgets/controls",
            "_model_module_version": "1.5.0",
            "_view_count": null,
            "_view_module_version": "1.5.0",
            "box_style": "",
            "layout": "IPY_MODEL_ccf84c3da441418e918e1839dbfc4dce",
            "_model_module": "@jupyter-widgets/controls",
            "children": [
              "IPY_MODEL_116aa856ddea4b5083d35d18d57c106b",
              "IPY_MODEL_a0ad836ecdcf49e08ae53dd65f373adc"
            ]
          }
        },
        "ccf84c3da441418e918e1839dbfc4dce": {
          "model_module": "@jupyter-widgets/base",
          "model_name": "LayoutModel",
          "state": {
            "_view_name": "LayoutView",
            "grid_template_rows": null,
            "right": null,
            "justify_content": null,
            "_view_module": "@jupyter-widgets/base",
            "overflow": null,
            "_model_module_version": "1.2.0",
            "_view_count": null,
            "flex_flow": null,
            "width": null,
            "min_width": null,
            "border": null,
            "align_items": null,
            "bottom": null,
            "_model_module": "@jupyter-widgets/base",
            "top": null,
            "grid_column": null,
            "overflow_y": null,
            "overflow_x": null,
            "grid_auto_flow": null,
            "grid_area": null,
            "grid_template_columns": null,
            "flex": null,
            "_model_name": "LayoutModel",
            "justify_items": null,
            "grid_row": null,
            "max_height": null,
            "align_content": null,
            "visibility": null,
            "align_self": null,
            "height": null,
            "min_height": null,
            "padding": null,
            "grid_auto_rows": null,
            "grid_gap": null,
            "max_width": null,
            "order": null,
            "_view_module_version": "1.2.0",
            "grid_template_areas": null,
            "object_position": null,
            "object_fit": null,
            "grid_auto_columns": null,
            "margin": null,
            "display": null,
            "left": null
          }
        },
        "116aa856ddea4b5083d35d18d57c106b": {
          "model_module": "@jupyter-widgets/controls",
          "model_name": "FloatProgressModel",
          "state": {
            "_view_name": "ProgressView",
            "style": "IPY_MODEL_24c62c2466ac4627856936cd6063bb7a",
            "_dom_classes": [],
            "description": "Downloading: 100%",
            "_model_name": "FloatProgressModel",
            "bar_style": "success",
            "max": 1115590446,
            "_view_module": "@jupyter-widgets/controls",
            "_model_module_version": "1.5.0",
            "value": 1115590446,
            "_view_count": null,
            "_view_module_version": "1.5.0",
            "orientation": "horizontal",
            "min": 0,
            "description_tooltip": null,
            "_model_module": "@jupyter-widgets/controls",
            "layout": "IPY_MODEL_5a05255fc36a4ad0808410197dece2f1"
          }
        },
        "a0ad836ecdcf49e08ae53dd65f373adc": {
          "model_module": "@jupyter-widgets/controls",
          "model_name": "HTMLModel",
          "state": {
            "_view_name": "HTMLView",
            "style": "IPY_MODEL_0189153794e547bd96c71582a4e5bc8b",
            "_dom_classes": [],
            "description": "",
            "_model_name": "HTMLModel",
            "placeholder": "​",
            "_view_module": "@jupyter-widgets/controls",
            "_model_module_version": "1.5.0",
            "value": " 1.12G/1.12G [00:33&lt;00:00, 33.4MB/s]",
            "_view_count": null,
            "_view_module_version": "1.5.0",
            "description_tooltip": null,
            "_model_module": "@jupyter-widgets/controls",
            "layout": "IPY_MODEL_1d16d611d7e04a92b86fcd69e6681ffa"
          }
        },
        "24c62c2466ac4627856936cd6063bb7a": {
          "model_module": "@jupyter-widgets/controls",
          "model_name": "ProgressStyleModel",
          "state": {
            "_view_name": "StyleView",
            "_model_name": "ProgressStyleModel",
            "description_width": "initial",
            "_view_module": "@jupyter-widgets/base",
            "_model_module_version": "1.5.0",
            "_view_count": null,
            "_view_module_version": "1.2.0",
            "bar_color": null,
            "_model_module": "@jupyter-widgets/controls"
          }
        },
        "5a05255fc36a4ad0808410197dece2f1": {
          "model_module": "@jupyter-widgets/base",
          "model_name": "LayoutModel",
          "state": {
            "_view_name": "LayoutView",
            "grid_template_rows": null,
            "right": null,
            "justify_content": null,
            "_view_module": "@jupyter-widgets/base",
            "overflow": null,
            "_model_module_version": "1.2.0",
            "_view_count": null,
            "flex_flow": null,
            "width": null,
            "min_width": null,
            "border": null,
            "align_items": null,
            "bottom": null,
            "_model_module": "@jupyter-widgets/base",
            "top": null,
            "grid_column": null,
            "overflow_y": null,
            "overflow_x": null,
            "grid_auto_flow": null,
            "grid_area": null,
            "grid_template_columns": null,
            "flex": null,
            "_model_name": "LayoutModel",
            "justify_items": null,
            "grid_row": null,
            "max_height": null,
            "align_content": null,
            "visibility": null,
            "align_self": null,
            "height": null,
            "min_height": null,
            "padding": null,
            "grid_auto_rows": null,
            "grid_gap": null,
            "max_width": null,
            "order": null,
            "_view_module_version": "1.2.0",
            "grid_template_areas": null,
            "object_position": null,
            "object_fit": null,
            "grid_auto_columns": null,
            "margin": null,
            "display": null,
            "left": null
          }
        },
        "0189153794e547bd96c71582a4e5bc8b": {
          "model_module": "@jupyter-widgets/controls",
          "model_name": "DescriptionStyleModel",
          "state": {
            "_view_name": "StyleView",
            "_model_name": "DescriptionStyleModel",
            "description_width": "",
            "_view_module": "@jupyter-widgets/base",
            "_model_module_version": "1.5.0",
            "_view_count": null,
            "_view_module_version": "1.2.0",
            "_model_module": "@jupyter-widgets/controls"
          }
        },
        "1d16d611d7e04a92b86fcd69e6681ffa": {
          "model_module": "@jupyter-widgets/base",
          "model_name": "LayoutModel",
          "state": {
            "_view_name": "LayoutView",
            "grid_template_rows": null,
            "right": null,
            "justify_content": null,
            "_view_module": "@jupyter-widgets/base",
            "overflow": null,
            "_model_module_version": "1.2.0",
            "_view_count": null,
            "flex_flow": null,
            "width": null,
            "min_width": null,
            "border": null,
            "align_items": null,
            "bottom": null,
            "_model_module": "@jupyter-widgets/base",
            "top": null,
            "grid_column": null,
            "overflow_y": null,
            "overflow_x": null,
            "grid_auto_flow": null,
            "grid_area": null,
            "grid_template_columns": null,
            "flex": null,
            "_model_name": "LayoutModel",
            "justify_items": null,
            "grid_row": null,
            "max_height": null,
            "align_content": null,
            "visibility": null,
            "align_self": null,
            "height": null,
            "min_height": null,
            "padding": null,
            "grid_auto_rows": null,
            "grid_gap": null,
            "max_width": null,
            "order": null,
            "_view_module_version": "1.2.0",
            "grid_template_areas": null,
            "object_position": null,
            "object_fit": null,
            "grid_auto_columns": null,
            "margin": null,
            "display": null,
            "left": null
          }
        },
        "eef6a0eac2d149e5b0f30b400be622f7": {
          "model_module": "@jupyter-widgets/controls",
          "model_name": "HBoxModel",
          "state": {
            "_view_name": "HBoxView",
            "_dom_classes": [],
            "_model_name": "HBoxModel",
            "_view_module": "@jupyter-widgets/controls",
            "_model_module_version": "1.5.0",
            "_view_count": null,
            "_view_module_version": "1.5.0",
            "box_style": "",
            "layout": "IPY_MODEL_d607d5a6316246aaa1aa7c12e2e223aa",
            "_model_module": "@jupyter-widgets/controls",
            "children": [
              "IPY_MODEL_373cb55f03c946259cc28bb4d9465adf",
              "IPY_MODEL_f9dca89b77fd47929cc53a108fb6b289"
            ]
          }
        },
        "d607d5a6316246aaa1aa7c12e2e223aa": {
          "model_module": "@jupyter-widgets/base",
          "model_name": "LayoutModel",
          "state": {
            "_view_name": "LayoutView",
            "grid_template_rows": null,
            "right": null,
            "justify_content": null,
            "_view_module": "@jupyter-widgets/base",
            "overflow": null,
            "_model_module_version": "1.2.0",
            "_view_count": null,
            "flex_flow": null,
            "width": null,
            "min_width": null,
            "border": null,
            "align_items": null,
            "bottom": null,
            "_model_module": "@jupyter-widgets/base",
            "top": null,
            "grid_column": null,
            "overflow_y": null,
            "overflow_x": null,
            "grid_auto_flow": null,
            "grid_area": null,
            "grid_template_columns": null,
            "flex": null,
            "_model_name": "LayoutModel",
            "justify_items": null,
            "grid_row": null,
            "max_height": null,
            "align_content": null,
            "visibility": null,
            "align_self": null,
            "height": null,
            "min_height": null,
            "padding": null,
            "grid_auto_rows": null,
            "grid_gap": null,
            "max_width": null,
            "order": null,
            "_view_module_version": "1.2.0",
            "grid_template_areas": null,
            "object_position": null,
            "object_fit": null,
            "grid_auto_columns": null,
            "margin": null,
            "display": null,
            "left": null
          }
        },
        "373cb55f03c946259cc28bb4d9465adf": {
          "model_module": "@jupyter-widgets/controls",
          "model_name": "FloatProgressModel",
          "state": {
            "_view_name": "ProgressView",
            "style": "IPY_MODEL_b0c33089cbba418bba8f76a79d8f54f2",
            "_dom_classes": [],
            "description": "Downloading: 100%",
            "_model_name": "FloatProgressModel",
            "bar_style": "success",
            "max": 5069051,
            "_view_module": "@jupyter-widgets/controls",
            "_model_module_version": "1.5.0",
            "value": 5069051,
            "_view_count": null,
            "_view_module_version": "1.5.0",
            "orientation": "horizontal",
            "min": 0,
            "description_tooltip": null,
            "_model_module": "@jupyter-widgets/controls",
            "layout": "IPY_MODEL_e197e4e8ebdc43919c6d0f415f6cd1b3"
          }
        },
        "f9dca89b77fd47929cc53a108fb6b289": {
          "model_module": "@jupyter-widgets/controls",
          "model_name": "HTMLModel",
          "state": {
            "_view_name": "HTMLView",
            "style": "IPY_MODEL_d3ab2e9ddda143808814fb93f7f52bc1",
            "_dom_classes": [],
            "description": "",
            "_model_name": "HTMLModel",
            "placeholder": "​",
            "_view_module": "@jupyter-widgets/controls",
            "_model_module_version": "1.5.0",
            "value": " 5.07M/5.07M [00:06&lt;00:00, 839kB/s]",
            "_view_count": null,
            "_view_module_version": "1.5.0",
            "description_tooltip": null,
            "_model_module": "@jupyter-widgets/controls",
            "layout": "IPY_MODEL_805ccc2256904073ae450c62378aa049"
          }
        },
        "b0c33089cbba418bba8f76a79d8f54f2": {
          "model_module": "@jupyter-widgets/controls",
          "model_name": "ProgressStyleModel",
          "state": {
            "_view_name": "StyleView",
            "_model_name": "ProgressStyleModel",
            "description_width": "initial",
            "_view_module": "@jupyter-widgets/base",
            "_model_module_version": "1.5.0",
            "_view_count": null,
            "_view_module_version": "1.2.0",
            "bar_color": null,
            "_model_module": "@jupyter-widgets/controls"
          }
        },
        "e197e4e8ebdc43919c6d0f415f6cd1b3": {
          "model_module": "@jupyter-widgets/base",
          "model_name": "LayoutModel",
          "state": {
            "_view_name": "LayoutView",
            "grid_template_rows": null,
            "right": null,
            "justify_content": null,
            "_view_module": "@jupyter-widgets/base",
            "overflow": null,
            "_model_module_version": "1.2.0",
            "_view_count": null,
            "flex_flow": null,
            "width": null,
            "min_width": null,
            "border": null,
            "align_items": null,
            "bottom": null,
            "_model_module": "@jupyter-widgets/base",
            "top": null,
            "grid_column": null,
            "overflow_y": null,
            "overflow_x": null,
            "grid_auto_flow": null,
            "grid_area": null,
            "grid_template_columns": null,
            "flex": null,
            "_model_name": "LayoutModel",
            "justify_items": null,
            "grid_row": null,
            "max_height": null,
            "align_content": null,
            "visibility": null,
            "align_self": null,
            "height": null,
            "min_height": null,
            "padding": null,
            "grid_auto_rows": null,
            "grid_gap": null,
            "max_width": null,
            "order": null,
            "_view_module_version": "1.2.0",
            "grid_template_areas": null,
            "object_position": null,
            "object_fit": null,
            "grid_auto_columns": null,
            "margin": null,
            "display": null,
            "left": null
          }
        },
        "d3ab2e9ddda143808814fb93f7f52bc1": {
          "model_module": "@jupyter-widgets/controls",
          "model_name": "DescriptionStyleModel",
          "state": {
            "_view_name": "StyleView",
            "_model_name": "DescriptionStyleModel",
            "description_width": "",
            "_view_module": "@jupyter-widgets/base",
            "_model_module_version": "1.5.0",
            "_view_count": null,
            "_view_module_version": "1.2.0",
            "_model_module": "@jupyter-widgets/controls"
          }
        },
        "805ccc2256904073ae450c62378aa049": {
          "model_module": "@jupyter-widgets/base",
          "model_name": "LayoutModel",
          "state": {
            "_view_name": "LayoutView",
            "grid_template_rows": null,
            "right": null,
            "justify_content": null,
            "_view_module": "@jupyter-widgets/base",
            "overflow": null,
            "_model_module_version": "1.2.0",
            "_view_count": null,
            "flex_flow": null,
            "width": null,
            "min_width": null,
            "border": null,
            "align_items": null,
            "bottom": null,
            "_model_module": "@jupyter-widgets/base",
            "top": null,
            "grid_column": null,
            "overflow_y": null,
            "overflow_x": null,
            "grid_auto_flow": null,
            "grid_area": null,
            "grid_template_columns": null,
            "flex": null,
            "_model_name": "LayoutModel",
            "justify_items": null,
            "grid_row": null,
            "max_height": null,
            "align_content": null,
            "visibility": null,
            "align_self": null,
            "height": null,
            "min_height": null,
            "padding": null,
            "grid_auto_rows": null,
            "grid_gap": null,
            "max_width": null,
            "order": null,
            "_view_module_version": "1.2.0",
            "grid_template_areas": null,
            "object_position": null,
            "object_fit": null,
            "grid_auto_columns": null,
            "margin": null,
            "display": null,
            "left": null
          }
        }
      }
    }
  },
  "cells": [
    {
      "cell_type": "markdown",
      "metadata": {
        "id": "view-in-github",
        "colab_type": "text"
      },
      "source": [
        "<a href=\"https://colab.research.google.com/github/vidosuba/slovak-NER/blob/main/other/trankit_ner_wikiann.ipynb\" target=\"_parent\"><img src=\"https://colab.research.google.com/assets/colab-badge.svg\" alt=\"Open In Colab\"/></a>"
      ]
    },
    {
      "cell_type": "markdown",
      "metadata": {
        "id": "HbSat8L7HH9m"
      },
      "source": [
        "## Install dependencies"
      ]
    },
    {
      "cell_type": "code",
      "metadata": {
        "colab": {
          "base_uri": "https://localhost:8080/"
        },
        "id": "RBjqbvjC8wOr",
        "outputId": "f26f29da-8681-4c96-b2f9-3802cc343ca7"
      },
      "source": [
        "!pip install transformers"
      ],
      "execution_count": null,
      "outputs": [
        {
          "output_type": "stream",
          "text": [
            "Collecting transformers\n",
            "\u001b[?25l  Downloading https://files.pythonhosted.org/packages/d8/b2/57495b5309f09fa501866e225c84532d1fd89536ea62406b2181933fb418/transformers-4.5.1-py3-none-any.whl (2.1MB)\n",
            "\r\u001b[K     |▏                               | 10kB 14.4MB/s eta 0:00:01\r\u001b[K     |▎                               | 20kB 20.2MB/s eta 0:00:01\r\u001b[K     |▌                               | 30kB 19.4MB/s eta 0:00:01\r\u001b[K     |▋                               | 40kB 16.8MB/s eta 0:00:01\r\u001b[K     |▉                               | 51kB 12.4MB/s eta 0:00:01\r\u001b[K     |█                               | 61kB 13.9MB/s eta 0:00:01\r\u001b[K     |█▏                              | 71kB 10.6MB/s eta 0:00:01\r\u001b[K     |█▎                              | 81kB 11.5MB/s eta 0:00:01\r\u001b[K     |█▍                              | 92kB 12.4MB/s eta 0:00:01\r\u001b[K     |█▋                              | 102kB 11.3MB/s eta 0:00:01\r\u001b[K     |█▊                              | 112kB 11.3MB/s eta 0:00:01\r\u001b[K     |██                              | 122kB 11.3MB/s eta 0:00:01\r\u001b[K     |██                              | 133kB 11.3MB/s eta 0:00:01\r\u001b[K     |██▎                             | 143kB 11.3MB/s eta 0:00:01\r\u001b[K     |██▍                             | 153kB 11.3MB/s eta 0:00:01\r\u001b[K     |██▌                             | 163kB 11.3MB/s eta 0:00:01\r\u001b[K     |██▊                             | 174kB 11.3MB/s eta 0:00:01\r\u001b[K     |██▉                             | 184kB 11.3MB/s eta 0:00:01\r\u001b[K     |███                             | 194kB 11.3MB/s eta 0:00:01\r\u001b[K     |███▏                            | 204kB 11.3MB/s eta 0:00:01\r\u001b[K     |███▍                            | 215kB 11.3MB/s eta 0:00:01\r\u001b[K     |███▌                            | 225kB 11.3MB/s eta 0:00:01\r\u001b[K     |███▋                            | 235kB 11.3MB/s eta 0:00:01\r\u001b[K     |███▉                            | 245kB 11.3MB/s eta 0:00:01\r\u001b[K     |████                            | 256kB 11.3MB/s eta 0:00:01\r\u001b[K     |████▏                           | 266kB 11.3MB/s eta 0:00:01\r\u001b[K     |████▎                           | 276kB 11.3MB/s eta 0:00:01\r\u001b[K     |████▌                           | 286kB 11.3MB/s eta 0:00:01\r\u001b[K     |████▋                           | 296kB 11.3MB/s eta 0:00:01\r\u001b[K     |████▊                           | 307kB 11.3MB/s eta 0:00:01\r\u001b[K     |█████                           | 317kB 11.3MB/s eta 0:00:01\r\u001b[K     |█████                           | 327kB 11.3MB/s eta 0:00:01\r\u001b[K     |█████▎                          | 337kB 11.3MB/s eta 0:00:01\r\u001b[K     |█████▍                          | 348kB 11.3MB/s eta 0:00:01\r\u001b[K     |█████▋                          | 358kB 11.3MB/s eta 0:00:01\r\u001b[K     |█████▊                          | 368kB 11.3MB/s eta 0:00:01\r\u001b[K     |█████▉                          | 378kB 11.3MB/s eta 0:00:01\r\u001b[K     |██████                          | 389kB 11.3MB/s eta 0:00:01\r\u001b[K     |██████▏                         | 399kB 11.3MB/s eta 0:00:01\r\u001b[K     |██████▍                         | 409kB 11.3MB/s eta 0:00:01\r\u001b[K     |██████▌                         | 419kB 11.3MB/s eta 0:00:01\r\u001b[K     |██████▊                         | 430kB 11.3MB/s eta 0:00:01\r\u001b[K     |██████▉                         | 440kB 11.3MB/s eta 0:00:01\r\u001b[K     |███████                         | 450kB 11.3MB/s eta 0:00:01\r\u001b[K     |███████▏                        | 460kB 11.3MB/s eta 0:00:01\r\u001b[K     |███████▎                        | 471kB 11.3MB/s eta 0:00:01\r\u001b[K     |███████▌                        | 481kB 11.3MB/s eta 0:00:01\r\u001b[K     |███████▋                        | 491kB 11.3MB/s eta 0:00:01\r\u001b[K     |███████▉                        | 501kB 11.3MB/s eta 0:00:01\r\u001b[K     |████████                        | 512kB 11.3MB/s eta 0:00:01\r\u001b[K     |████████                        | 522kB 11.3MB/s eta 0:00:01\r\u001b[K     |████████▎                       | 532kB 11.3MB/s eta 0:00:01\r\u001b[K     |████████▍                       | 542kB 11.3MB/s eta 0:00:01\r\u001b[K     |████████▋                       | 552kB 11.3MB/s eta 0:00:01\r\u001b[K     |████████▊                       | 563kB 11.3MB/s eta 0:00:01\r\u001b[K     |█████████                       | 573kB 11.3MB/s eta 0:00:01\r\u001b[K     |█████████                       | 583kB 11.3MB/s eta 0:00:01\r\u001b[K     |█████████▎                      | 593kB 11.3MB/s eta 0:00:01\r\u001b[K     |█████████▍                      | 604kB 11.3MB/s eta 0:00:01\r\u001b[K     |█████████▌                      | 614kB 11.3MB/s eta 0:00:01\r\u001b[K     |█████████▊                      | 624kB 11.3MB/s eta 0:00:01\r\u001b[K     |█████████▉                      | 634kB 11.3MB/s eta 0:00:01\r\u001b[K     |██████████                      | 645kB 11.3MB/s eta 0:00:01\r\u001b[K     |██████████▏                     | 655kB 11.3MB/s eta 0:00:01\r\u001b[K     |██████████▍                     | 665kB 11.3MB/s eta 0:00:01\r\u001b[K     |██████████▌                     | 675kB 11.3MB/s eta 0:00:01\r\u001b[K     |██████████▋                     | 686kB 11.3MB/s eta 0:00:01\r\u001b[K     |██████████▉                     | 696kB 11.3MB/s eta 0:00:01\r\u001b[K     |███████████                     | 706kB 11.3MB/s eta 0:00:01\r\u001b[K     |███████████▏                    | 716kB 11.3MB/s eta 0:00:01\r\u001b[K     |███████████▎                    | 727kB 11.3MB/s eta 0:00:01\r\u001b[K     |███████████▌                    | 737kB 11.3MB/s eta 0:00:01\r\u001b[K     |███████████▋                    | 747kB 11.3MB/s eta 0:00:01\r\u001b[K     |███████████▊                    | 757kB 11.3MB/s eta 0:00:01\r\u001b[K     |████████████                    | 768kB 11.3MB/s eta 0:00:01\r\u001b[K     |████████████                    | 778kB 11.3MB/s eta 0:00:01\r\u001b[K     |████████████▎                   | 788kB 11.3MB/s eta 0:00:01\r\u001b[K     |████████████▍                   | 798kB 11.3MB/s eta 0:00:01\r\u001b[K     |████████████▋                   | 808kB 11.3MB/s eta 0:00:01\r\u001b[K     |████████████▊                   | 819kB 11.3MB/s eta 0:00:01\r\u001b[K     |████████████▉                   | 829kB 11.3MB/s eta 0:00:01\r\u001b[K     |█████████████                   | 839kB 11.3MB/s eta 0:00:01\r\u001b[K     |█████████████▏                  | 849kB 11.3MB/s eta 0:00:01\r\u001b[K     |█████████████▍                  | 860kB 11.3MB/s eta 0:00:01\r\u001b[K     |█████████████▌                  | 870kB 11.3MB/s eta 0:00:01\r\u001b[K     |█████████████▊                  | 880kB 11.3MB/s eta 0:00:01\r\u001b[K     |█████████████▉                  | 890kB 11.3MB/s eta 0:00:01\r\u001b[K     |██████████████                  | 901kB 11.3MB/s eta 0:00:01\r\u001b[K     |██████████████▏                 | 911kB 11.3MB/s eta 0:00:01\r\u001b[K     |██████████████▎                 | 921kB 11.3MB/s eta 0:00:01\r\u001b[K     |██████████████▌                 | 931kB 11.3MB/s eta 0:00:01\r\u001b[K     |██████████████▋                 | 942kB 11.3MB/s eta 0:00:01\r\u001b[K     |██████████████▉                 | 952kB 11.3MB/s eta 0:00:01\r\u001b[K     |███████████████                 | 962kB 11.3MB/s eta 0:00:01\r\u001b[K     |███████████████                 | 972kB 11.3MB/s eta 0:00:01\r\u001b[K     |███████████████▎                | 983kB 11.3MB/s eta 0:00:01\r\u001b[K     |███████████████▍                | 993kB 11.3MB/s eta 0:00:01\r\u001b[K     |███████████████▋                | 1.0MB 11.3MB/s eta 0:00:01\r\u001b[K     |███████████████▊                | 1.0MB 11.3MB/s eta 0:00:01\r\u001b[K     |████████████████                | 1.0MB 11.3MB/s eta 0:00:01\r\u001b[K     |████████████████                | 1.0MB 11.3MB/s eta 0:00:01\r\u001b[K     |████████████████▏               | 1.0MB 11.3MB/s eta 0:00:01\r\u001b[K     |████████████████▍               | 1.1MB 11.3MB/s eta 0:00:01\r\u001b[K     |████████████████▌               | 1.1MB 11.3MB/s eta 0:00:01\r\u001b[K     |████████████████▊               | 1.1MB 11.3MB/s eta 0:00:01\r\u001b[K     |████████████████▉               | 1.1MB 11.3MB/s eta 0:00:01\r\u001b[K     |█████████████████               | 1.1MB 11.3MB/s eta 0:00:01\r\u001b[K     |█████████████████▏              | 1.1MB 11.3MB/s eta 0:00:01\r\u001b[K     |█████████████████▍              | 1.1MB 11.3MB/s eta 0:00:01\r\u001b[K     |█████████████████▌              | 1.1MB 11.3MB/s eta 0:00:01\r\u001b[K     |█████████████████▋              | 1.1MB 11.3MB/s eta 0:00:01\r\u001b[K     |█████████████████▉              | 1.1MB 11.3MB/s eta 0:00:01\r\u001b[K     |██████████████████              | 1.2MB 11.3MB/s eta 0:00:01\r\u001b[K     |██████████████████▏             | 1.2MB 11.3MB/s eta 0:00:01\r\u001b[K     |██████████████████▎             | 1.2MB 11.3MB/s eta 0:00:01\r\u001b[K     |██████████████████▌             | 1.2MB 11.3MB/s eta 0:00:01\r\u001b[K     |██████████████████▋             | 1.2MB 11.3MB/s eta 0:00:01\r\u001b[K     |██████████████████▊             | 1.2MB 11.3MB/s eta 0:00:01\r\u001b[K     |███████████████████             | 1.2MB 11.3MB/s eta 0:00:01\r\u001b[K     |███████████████████             | 1.2MB 11.3MB/s eta 0:00:01\r\u001b[K     |███████████████████▎            | 1.2MB 11.3MB/s eta 0:00:01\r\u001b[K     |███████████████████▍            | 1.2MB 11.3MB/s eta 0:00:01\r\u001b[K     |███████████████████▋            | 1.3MB 11.3MB/s eta 0:00:01\r\u001b[K     |███████████████████▊            | 1.3MB 11.3MB/s eta 0:00:01\r\u001b[K     |███████████████████▉            | 1.3MB 11.3MB/s eta 0:00:01\r\u001b[K     |████████████████████            | 1.3MB 11.3MB/s eta 0:00:01\r\u001b[K     |████████████████████▏           | 1.3MB 11.3MB/s eta 0:00:01\r\u001b[K     |████████████████████▍           | 1.3MB 11.3MB/s eta 0:00:01\r\u001b[K     |████████████████████▌           | 1.3MB 11.3MB/s eta 0:00:01\r\u001b[K     |████████████████████▊           | 1.3MB 11.3MB/s eta 0:00:01\r\u001b[K     |████████████████████▉           | 1.3MB 11.3MB/s eta 0:00:01\r\u001b[K     |█████████████████████           | 1.4MB 11.3MB/s eta 0:00:01\r\u001b[K     |█████████████████████▏          | 1.4MB 11.3MB/s eta 0:00:01\r\u001b[K     |█████████████████████▎          | 1.4MB 11.3MB/s eta 0:00:01\r\u001b[K     |█████████████████████▌          | 1.4MB 11.3MB/s eta 0:00:01\r\u001b[K     |█████████████████████▋          | 1.4MB 11.3MB/s eta 0:00:01\r\u001b[K     |█████████████████████▉          | 1.4MB 11.3MB/s eta 0:00:01\r\u001b[K     |██████████████████████          | 1.4MB 11.3MB/s eta 0:00:01\r\u001b[K     |██████████████████████          | 1.4MB 11.3MB/s eta 0:00:01\r\u001b[K     |██████████████████████▎         | 1.4MB 11.3MB/s eta 0:00:01\r\u001b[K     |██████████████████████▍         | 1.4MB 11.3MB/s eta 0:00:01\r\u001b[K     |██████████████████████▋         | 1.5MB 11.3MB/s eta 0:00:01\r\u001b[K     |██████████████████████▊         | 1.5MB 11.3MB/s eta 0:00:01\r\u001b[K     |███████████████████████         | 1.5MB 11.3MB/s eta 0:00:01\r\u001b[K     |███████████████████████         | 1.5MB 11.3MB/s eta 0:00:01\r\u001b[K     |███████████████████████▏        | 1.5MB 11.3MB/s eta 0:00:01\r\u001b[K     |███████████████████████▍        | 1.5MB 11.3MB/s eta 0:00:01\r\u001b[K     |███████████████████████▌        | 1.5MB 11.3MB/s eta 0:00:01\r\u001b[K     |███████████████████████▊        | 1.5MB 11.3MB/s eta 0:00:01\r\u001b[K     |███████████████████████▉        | 1.5MB 11.3MB/s eta 0:00:01\r\u001b[K     |████████████████████████        | 1.5MB 11.3MB/s eta 0:00:01\r\u001b[K     |████████████████████████▏       | 1.6MB 11.3MB/s eta 0:00:01\r\u001b[K     |████████████████████████▎       | 1.6MB 11.3MB/s eta 0:00:01\r\u001b[K     |████████████████████████▌       | 1.6MB 11.3MB/s eta 0:00:01\r\u001b[K     |████████████████████████▋       | 1.6MB 11.3MB/s eta 0:00:01\r\u001b[K     |████████████████████████▉       | 1.6MB 11.3MB/s eta 0:00:01\r\u001b[K     |█████████████████████████       | 1.6MB 11.3MB/s eta 0:00:01\r\u001b[K     |█████████████████████████▏      | 1.6MB 11.3MB/s eta 0:00:01\r\u001b[K     |█████████████████████████▎      | 1.6MB 11.3MB/s eta 0:00:01\r\u001b[K     |█████████████████████████▍      | 1.6MB 11.3MB/s eta 0:00:01\r\u001b[K     |█████████████████████████▋      | 1.6MB 11.3MB/s eta 0:00:01\r\u001b[K     |█████████████████████████▊      | 1.7MB 11.3MB/s eta 0:00:01\r\u001b[K     |██████████████████████████      | 1.7MB 11.3MB/s eta 0:00:01\r\u001b[K     |██████████████████████████      | 1.7MB 11.3MB/s eta 0:00:01\r\u001b[K     |██████████████████████████▎     | 1.7MB 11.3MB/s eta 0:00:01\r\u001b[K     |██████████████████████████▍     | 1.7MB 11.3MB/s eta 0:00:01\r\u001b[K     |██████████████████████████▋     | 1.7MB 11.3MB/s eta 0:00:01\r\u001b[K     |██████████████████████████▊     | 1.7MB 11.3MB/s eta 0:00:01\r\u001b[K     |██████████████████████████▉     | 1.7MB 11.3MB/s eta 0:00:01\r\u001b[K     |███████████████████████████     | 1.7MB 11.3MB/s eta 0:00:01\r\u001b[K     |███████████████████████████▏    | 1.8MB 11.3MB/s eta 0:00:01\r\u001b[K     |███████████████████████████▍    | 1.8MB 11.3MB/s eta 0:00:01\r\u001b[K     |███████████████████████████▌    | 1.8MB 11.3MB/s eta 0:00:01\r\u001b[K     |███████████████████████████▊    | 1.8MB 11.3MB/s eta 0:00:01\r\u001b[K     |███████████████████████████▉    | 1.8MB 11.3MB/s eta 0:00:01\r\u001b[K     |████████████████████████████    | 1.8MB 11.3MB/s eta 0:00:01\r\u001b[K     |████████████████████████████▏   | 1.8MB 11.3MB/s eta 0:00:01\r\u001b[K     |████████████████████████████▎   | 1.8MB 11.3MB/s eta 0:00:01\r\u001b[K     |████████████████████████████▌   | 1.8MB 11.3MB/s eta 0:00:01\r\u001b[K     |████████████████████████████▋   | 1.8MB 11.3MB/s eta 0:00:01\r\u001b[K     |████████████████████████████▉   | 1.9MB 11.3MB/s eta 0:00:01\r\u001b[K     |█████████████████████████████   | 1.9MB 11.3MB/s eta 0:00:01\r\u001b[K     |█████████████████████████████   | 1.9MB 11.3MB/s eta 0:00:01\r\u001b[K     |█████████████████████████████▎  | 1.9MB 11.3MB/s eta 0:00:01\r\u001b[K     |█████████████████████████████▍  | 1.9MB 11.3MB/s eta 0:00:01\r\u001b[K     |█████████████████████████████▋  | 1.9MB 11.3MB/s eta 0:00:01\r\u001b[K     |█████████████████████████████▊  | 1.9MB 11.3MB/s eta 0:00:01\r\u001b[K     |██████████████████████████████  | 1.9MB 11.3MB/s eta 0:00:01\r\u001b[K     |██████████████████████████████  | 1.9MB 11.3MB/s eta 0:00:01\r\u001b[K     |██████████████████████████████▏ | 1.9MB 11.3MB/s eta 0:00:01\r\u001b[K     |██████████████████████████████▍ | 2.0MB 11.3MB/s eta 0:00:01\r\u001b[K     |██████████████████████████████▌ | 2.0MB 11.3MB/s eta 0:00:01\r\u001b[K     |██████████████████████████████▊ | 2.0MB 11.3MB/s eta 0:00:01\r\u001b[K     |██████████████████████████████▉ | 2.0MB 11.3MB/s eta 0:00:01\r\u001b[K     |███████████████████████████████ | 2.0MB 11.3MB/s eta 0:00:01\r\u001b[K     |███████████████████████████████▏| 2.0MB 11.3MB/s eta 0:00:01\r\u001b[K     |███████████████████████████████▎| 2.0MB 11.3MB/s eta 0:00:01\r\u001b[K     |███████████████████████████████▌| 2.0MB 11.3MB/s eta 0:00:01\r\u001b[K     |███████████████████████████████▋| 2.0MB 11.3MB/s eta 0:00:01\r\u001b[K     |███████████████████████████████▉| 2.0MB 11.3MB/s eta 0:00:01\r\u001b[K     |████████████████████████████████| 2.1MB 11.3MB/s eta 0:00:01\r\u001b[K     |████████████████████████████████| 2.1MB 11.3MB/s \n",
            "\u001b[?25hRequirement already satisfied: numpy>=1.17 in /usr/local/lib/python3.7/dist-packages (from transformers) (1.19.5)\n",
            "Requirement already satisfied: requests in /usr/local/lib/python3.7/dist-packages (from transformers) (2.23.0)\n",
            "Collecting sacremoses\n",
            "\u001b[?25l  Downloading https://files.pythonhosted.org/packages/75/ee/67241dc87f266093c533a2d4d3d69438e57d7a90abb216fa076e7d475d4a/sacremoses-0.0.45-py3-none-any.whl (895kB)\n",
            "\u001b[K     |████████████████████████████████| 901kB 36.3MB/s \n",
            "\u001b[?25hRequirement already satisfied: filelock in /usr/local/lib/python3.7/dist-packages (from transformers) (3.0.12)\n",
            "Requirement already satisfied: regex!=2019.12.17 in /usr/local/lib/python3.7/dist-packages (from transformers) (2019.12.20)\n",
            "Requirement already satisfied: importlib-metadata; python_version < \"3.8\" in /usr/local/lib/python3.7/dist-packages (from transformers) (3.10.1)\n",
            "Collecting tokenizers<0.11,>=0.10.1\n",
            "\u001b[?25l  Downloading https://files.pythonhosted.org/packages/ae/04/5b870f26a858552025a62f1649c20d29d2672c02ff3c3fb4c688ca46467a/tokenizers-0.10.2-cp37-cp37m-manylinux2010_x86_64.whl (3.3MB)\n",
            "\u001b[K     |████████████████████████████████| 3.3MB 36.8MB/s \n",
            "\u001b[?25hRequirement already satisfied: packaging in /usr/local/lib/python3.7/dist-packages (from transformers) (20.9)\n",
            "Requirement already satisfied: tqdm>=4.27 in /usr/local/lib/python3.7/dist-packages (from transformers) (4.41.1)\n",
            "Requirement already satisfied: certifi>=2017.4.17 in /usr/local/lib/python3.7/dist-packages (from requests->transformers) (2020.12.5)\n",
            "Requirement already satisfied: idna<3,>=2.5 in /usr/local/lib/python3.7/dist-packages (from requests->transformers) (2.10)\n",
            "Requirement already satisfied: urllib3!=1.25.0,!=1.25.1,<1.26,>=1.21.1 in /usr/local/lib/python3.7/dist-packages (from requests->transformers) (1.24.3)\n",
            "Requirement already satisfied: chardet<4,>=3.0.2 in /usr/local/lib/python3.7/dist-packages (from requests->transformers) (3.0.4)\n",
            "Requirement already satisfied: six in /usr/local/lib/python3.7/dist-packages (from sacremoses->transformers) (1.15.0)\n",
            "Requirement already satisfied: click in /usr/local/lib/python3.7/dist-packages (from sacremoses->transformers) (7.1.2)\n",
            "Requirement already satisfied: joblib in /usr/local/lib/python3.7/dist-packages (from sacremoses->transformers) (1.0.1)\n",
            "Requirement already satisfied: typing-extensions>=3.6.4; python_version < \"3.8\" in /usr/local/lib/python3.7/dist-packages (from importlib-metadata; python_version < \"3.8\"->transformers) (3.7.4.3)\n",
            "Requirement already satisfied: zipp>=0.5 in /usr/local/lib/python3.7/dist-packages (from importlib-metadata; python_version < \"3.8\"->transformers) (3.4.1)\n",
            "Requirement already satisfied: pyparsing>=2.0.2 in /usr/local/lib/python3.7/dist-packages (from packaging->transformers) (2.4.7)\n",
            "Installing collected packages: sacremoses, tokenizers, transformers\n",
            "Successfully installed sacremoses-0.0.45 tokenizers-0.10.2 transformers-4.5.1\n"
          ],
          "name": "stdout"
        }
      ]
    },
    {
      "cell_type": "code",
      "metadata": {
        "colab": {
          "base_uri": "https://localhost:8080/"
        },
        "id": "EszygJLHSsci",
        "outputId": "d2f56fbf-790b-446e-de1c-d12185ed665b"
      },
      "source": [
        "!pip install trankit"
      ],
      "execution_count": null,
      "outputs": [
        {
          "output_type": "stream",
          "text": [
            "Collecting trankit\n",
            "\u001b[?25l  Downloading https://files.pythonhosted.org/packages/ca/a8/8f2aa8e14b078af84f83d92a5ab9ad175ac200e928f2f496fb28418be646/trankit-1.0.1-py3-none-any.whl (771kB)\n",
            "\u001b[K     |████████████████████████████████| 778kB 10.6MB/s \n",
            "\u001b[?25hCollecting torch<1.8.0,>=1.6.0\n",
            "\u001b[?25l  Downloading https://files.pythonhosted.org/packages/90/5d/095ddddc91c8a769a68c791c019c5793f9c4456a688ddd235d6670924ecb/torch-1.7.1-cp37-cp37m-manylinux1_x86_64.whl (776.8MB)\n",
            "\u001b[K     |████████████████████████████████| 776.8MB 22kB/s \n",
            "\u001b[?25hRequirement already satisfied: numpy in /usr/local/lib/python3.7/dist-packages (from trankit) (1.19.5)\n",
            "Requirement already satisfied: packaging in /usr/local/lib/python3.7/dist-packages (from trankit) (20.9)\n",
            "Requirement already satisfied: requests in /usr/local/lib/python3.7/dist-packages (from trankit) (2.23.0)\n",
            "Requirement already satisfied: filelock in /usr/local/lib/python3.7/dist-packages (from trankit) (3.0.12)\n",
            "Requirement already satisfied: tqdm>=4.27 in /usr/local/lib/python3.7/dist-packages (from trankit) (4.41.1)\n",
            "Requirement already satisfied: protobuf in /usr/local/lib/python3.7/dist-packages (from trankit) (3.12.4)\n",
            "Collecting langid==1.1.6\n",
            "\u001b[?25l  Downloading https://files.pythonhosted.org/packages/ea/4c/0fb7d900d3b0b9c8703be316fbddffecdab23c64e1b46c7a83561d78bd43/langid-1.1.6.tar.gz (1.9MB)\n",
            "\u001b[K     |████████████████████████████████| 1.9MB 37.8MB/s \n",
            "\u001b[?25hRequirement already satisfied: regex!=2019.12.17 in /usr/local/lib/python3.7/dist-packages (from trankit) (2019.12.20)\n",
            "Collecting sentencepiece\n",
            "\u001b[?25l  Downloading https://files.pythonhosted.org/packages/f5/99/e0808cb947ba10f575839c43e8fafc9cc44e4a7a2c8f79c60db48220a577/sentencepiece-0.1.95-cp37-cp37m-manylinux2014_x86_64.whl (1.2MB)\n",
            "\u001b[K     |████████████████████████████████| 1.2MB 35.8MB/s \n",
            "\u001b[?25hRequirement already satisfied: sacremoses in /usr/local/lib/python3.7/dist-packages (from trankit) (0.0.45)\n",
            "Requirement already satisfied: tokenizers>=0.7.0 in /usr/local/lib/python3.7/dist-packages (from trankit) (0.10.2)\n",
            "Requirement already satisfied: typing-extensions in /usr/local/lib/python3.7/dist-packages (from torch<1.8.0,>=1.6.0->trankit) (3.7.4.3)\n",
            "Requirement already satisfied: pyparsing>=2.0.2 in /usr/local/lib/python3.7/dist-packages (from packaging->trankit) (2.4.7)\n",
            "Requirement already satisfied: idna<3,>=2.5 in /usr/local/lib/python3.7/dist-packages (from requests->trankit) (2.10)\n",
            "Requirement already satisfied: chardet<4,>=3.0.2 in /usr/local/lib/python3.7/dist-packages (from requests->trankit) (3.0.4)\n",
            "Requirement already satisfied: urllib3!=1.25.0,!=1.25.1,<1.26,>=1.21.1 in /usr/local/lib/python3.7/dist-packages (from requests->trankit) (1.24.3)\n",
            "Requirement already satisfied: certifi>=2017.4.17 in /usr/local/lib/python3.7/dist-packages (from requests->trankit) (2020.12.5)\n",
            "Requirement already satisfied: six>=1.9 in /usr/local/lib/python3.7/dist-packages (from protobuf->trankit) (1.15.0)\n",
            "Requirement already satisfied: setuptools in /usr/local/lib/python3.7/dist-packages (from protobuf->trankit) (56.0.0)\n",
            "Requirement already satisfied: click in /usr/local/lib/python3.7/dist-packages (from sacremoses->trankit) (7.1.2)\n",
            "Requirement already satisfied: joblib in /usr/local/lib/python3.7/dist-packages (from sacremoses->trankit) (1.0.1)\n",
            "Building wheels for collected packages: langid\n",
            "  Building wheel for langid (setup.py) ... \u001b[?25l\u001b[?25hdone\n",
            "  Created wheel for langid: filename=langid-1.1.6-cp37-none-any.whl size=1941191 sha256=53d91201239c6d9416cd950f4df3ffe3bf68937598627a21f11cc159c974c40c\n",
            "  Stored in directory: /root/.cache/pip/wheels/29/bc/61/50a93be85d1afe9436c3dc61f38da8ad7b637a38af4824e86e\n",
            "Successfully built langid\n",
            "\u001b[31mERROR: torchvision 0.9.1+cu101 has requirement torch==1.8.1, but you'll have torch 1.7.1 which is incompatible.\u001b[0m\n",
            "\u001b[31mERROR: torchtext 0.9.1 has requirement torch==1.8.1, but you'll have torch 1.7.1 which is incompatible.\u001b[0m\n",
            "Installing collected packages: torch, langid, sentencepiece, trankit\n",
            "  Found existing installation: torch 1.8.1+cu101\n",
            "    Uninstalling torch-1.8.1+cu101:\n",
            "      Successfully uninstalled torch-1.8.1+cu101\n",
            "Successfully installed langid-1.1.6 sentencepiece-0.1.95 torch-1.7.1 trankit-1.0.1\n"
          ],
          "name": "stdout"
        }
      ]
    },
    {
      "cell_type": "markdown",
      "metadata": {
        "id": "H_7yHPYoHPsU"
      },
      "source": [
        "### Prepare the data"
      ]
    },
    {
      "cell_type": "code",
      "metadata": {
        "id": "KcYKH2GNubIR",
        "colab": {
          "base_uri": "https://localhost:8080/"
        },
        "outputId": "edf87ecd-070e-406f-e230-a8e4461f711c"
      },
      "source": [
        "!mkdir -p data\n",
        "!cd data\n",
        "\n",
        "!wget https://raw.githubusercontent.com/vidosuba/slovak-NER/main/wikiann/cleaned_data/dev_cleaned.txt -P data\n",
        "!wget https://raw.githubusercontent.com/vidosuba/slovak-NER/main/wikiann/cleaned_data/dev_cleaned.txt -P data\n",
        "!wget https://raw.githubusercontent.com/vidosuba/slovak-NER/main/wikiann/cleaned_data/dev_cleaned.txt -P data"
      ],
      "execution_count": null,
      "outputs": [
        {
          "output_type": "stream",
          "text": [
            "--2021-04-28 13:50:17--  https://raw.githubusercontent.com/vidosuba/slovak-NER/main/wikiann/cleaned_data/dev_cleaned.txt\n",
            "Resolving raw.githubusercontent.com (raw.githubusercontent.com)... 185.199.108.133, 185.199.110.133, 185.199.109.133, ...\n",
            "Connecting to raw.githubusercontent.com (raw.githubusercontent.com)|185.199.108.133|:443... connected.\n",
            "HTTP request sent, awaiting response... 200 OK\n",
            "Length: 690940 (675K) [text/plain]\n",
            "Saving to: ‘data/dev_cleaned.txt’\n",
            "\n",
            "\rdev_cleaned.txt       0%[                    ]       0  --.-KB/s               \rdev_cleaned.txt     100%[===================>] 674.75K  --.-KB/s    in 0.01s   \n",
            "\n",
            "2021-04-28 13:50:17 (44.0 MB/s) - ‘data/dev_cleaned.txt’ saved [690940/690940]\n",
            "\n",
            "--2021-04-28 13:50:17--  https://raw.githubusercontent.com/vidosuba/slovak-NER/main/wikiann/cleaned_data/dev_cleaned.txt\n",
            "Resolving raw.githubusercontent.com (raw.githubusercontent.com)... 185.199.108.133, 185.199.109.133, 185.199.110.133, ...\n",
            "Connecting to raw.githubusercontent.com (raw.githubusercontent.com)|185.199.108.133|:443... connected.\n",
            "HTTP request sent, awaiting response... 200 OK\n",
            "Length: 690940 (675K) [text/plain]\n",
            "Saving to: ‘data/dev_cleaned.txt.1’\n",
            "\n",
            "dev_cleaned.txt.1   100%[===================>] 674.75K  --.-KB/s    in 0.02s   \n",
            "\n",
            "2021-04-28 13:50:17 (41.5 MB/s) - ‘data/dev_cleaned.txt.1’ saved [690940/690940]\n",
            "\n",
            "--2021-04-28 13:50:17--  https://raw.githubusercontent.com/vidosuba/slovak-NER/main/wikiann/cleaned_data/dev_cleaned.txt\n",
            "Resolving raw.githubusercontent.com (raw.githubusercontent.com)... 185.199.108.133, 185.199.109.133, 185.199.110.133, ...\n",
            "Connecting to raw.githubusercontent.com (raw.githubusercontent.com)|185.199.108.133|:443... connected.\n",
            "HTTP request sent, awaiting response... 200 OK\n",
            "Length: 690940 (675K) [text/plain]\n",
            "Saving to: ‘data/dev_cleaned.txt.2’\n",
            "\n",
            "dev_cleaned.txt.2   100%[===================>] 674.75K  --.-KB/s    in 0.02s   \n",
            "\n",
            "2021-04-28 13:50:17 (38.3 MB/s) - ‘data/dev_cleaned.txt.2’ saved [690940/690940]\n",
            "\n"
          ],
          "name": "stdout"
        }
      ]
    },
    {
      "cell_type": "markdown",
      "metadata": {
        "id": "oJhr8AtgHUOP"
      },
      "source": [
        "## Run the training loop"
      ]
    },
    {
      "cell_type": "code",
      "metadata": {
        "colab": {
          "base_uri": "https://localhost:8080/",
          "height": 385,
          "referenced_widgets": [
            "281bd2e19fa34dfebd5a0d67ab0ef34d",
            "18e45139278542d08c60ab2ef516d930",
            "f6c98b6f807347189a808b4764516798",
            "ce6b223aacb04964bc7e017c3c921fe3",
            "d7b87793e5a7409295569f098f4d3f1d",
            "df7eb884df5e41549b00a33a60956ba4",
            "e29251191df5459ab631dad636d6e854",
            "cee9ae20a2e845af91d426f8d4641437",
            "affe4a45ac57454cbca0e8a7906f8a5e",
            "e820facdaa884a369f116cba23b16bea",
            "738c023c364543c4addf31e5fcd331f1",
            "46e7036657a24904bc6459918b15ad56",
            "ee90933d1c464f09b05e532e58680523",
            "2eb9362c94b449da9019b497990d50c2",
            "e981ff020fb94180a6c3c9ee088d14ca",
            "c83b9c63fae549d49db0c4c14ffff371",
            "a1d44024990243adb17140b47341052a",
            "ccf84c3da441418e918e1839dbfc4dce",
            "116aa856ddea4b5083d35d18d57c106b",
            "a0ad836ecdcf49e08ae53dd65f373adc",
            "24c62c2466ac4627856936cd6063bb7a",
            "5a05255fc36a4ad0808410197dece2f1",
            "0189153794e547bd96c71582a4e5bc8b",
            "1d16d611d7e04a92b86fcd69e6681ffa"
          ]
        },
        "id": "51jTnhfoCS5W",
        "outputId": "fa08b8a9-78e5-4aa4-d9a8-948c4d4885d9"
      },
      "source": [
        "import trankit\n",
        "\n",
        "# initialize a trainer for the task\n",
        "trainer = trankit.TPipeline(\n",
        "    training_config={\n",
        "      'max_epoch': 1,\n",
        "      'category': 'customized-ner',  # pipeline category\n",
        "      'task': 'ner', # task name\n",
        "      'save_dir': './save_dir_filtered', # directory to save the trained model\n",
        "      'train_bio_fpath': './data/train_cleaned.txt', # training data in BIO format\n",
        "      'dev_bio_fpath': './data/dev_cleaned.txt' # training data in BIO format\n",
        "    }\n",
        ")\n",
        "\n",
        "# start training\n",
        "trainer.train()"
      ],
      "execution_count": null,
      "outputs": [
        {
          "output_type": "stream",
          "text": [
            "Setting up training config...\n"
          ],
          "name": "stdout"
        },
        {
          "output_type": "display_data",
          "data": {
            "application/vnd.jupyter.widget-view+json": {
              "model_id": "281bd2e19fa34dfebd5a0d67ab0ef34d",
              "version_minor": 0,
              "version_major": 2
            },
            "text/plain": [
              "HBox(children=(FloatProgress(value=0.0, description='Downloading', max=5069051.0, style=ProgressStyle(descript…"
            ]
          },
          "metadata": {
            "tags": []
          }
        },
        {
          "output_type": "stream",
          "text": [
            "\n",
            "Skipped 0 over-length examples\n",
            "Loaded 20000 examples\n",
            "Skipped 0 over-length examples\n",
            "Loaded 10000 examples\n"
          ],
          "name": "stdout"
        },
        {
          "output_type": "display_data",
          "data": {
            "application/vnd.jupyter.widget-view+json": {
              "model_id": "affe4a45ac57454cbca0e8a7906f8a5e",
              "version_minor": 0,
              "version_major": 2
            },
            "text/plain": [
              "HBox(children=(FloatProgress(value=0.0, description='Downloading', max=512.0, style=ProgressStyle(description_…"
            ]
          },
          "metadata": {
            "tags": []
          }
        },
        {
          "output_type": "stream",
          "text": [
            "\n"
          ],
          "name": "stdout"
        },
        {
          "output_type": "display_data",
          "data": {
            "application/vnd.jupyter.widget-view+json": {
              "model_id": "a1d44024990243adb17140b47341052a",
              "version_minor": 0,
              "version_major": 2
            },
            "text/plain": [
              "HBox(children=(FloatProgress(value=0.0, description='Downloading', max=1115590446.0, style=ProgressStyle(descr…"
            ]
          },
          "metadata": {
            "tags": []
          }
        },
        {
          "output_type": "stream",
          "text": [
            "\n"
          ],
          "name": "stdout"
        },
        {
          "output_type": "stream",
          "text": [
            "\rTrain 0:   0%|                                    | 0/1250 [00:00<?, ?it/s]"
          ],
          "name": "stderr"
        },
        {
          "output_type": "stream",
          "text": [
            "******************************\n",
            "NER: Epoch: 0\n"
          ],
          "name": "stdout"
        },
        {
          "output_type": "stream",
          "text": [
            "Train 0: 100%|█████████████████████████| 1250/1250 [03:57<00:00,  5.26it/s]\n",
            "dev 0: 100%|█████████████████████████████| 625/625 [01:01<00:00, 10.18it/s]\n"
          ],
          "name": "stderr"
        },
        {
          "output_type": "stream",
          "text": [
            "Saving adapter weights to ... ./save_dir_filtered/customized-ner/customized-ner.ner.mdl (9.96 MB)\n",
            "------------------------------\n",
            "Best dev F1 score: epoch 0, F1: 68.17\n",
            "Training done!\n"
          ],
          "name": "stdout"
        }
      ]
    },
    {
      "cell_type": "code",
      "metadata": {
        "colab": {
          "base_uri": "https://localhost:8080/"
        },
        "id": "Df828S_N8Nnk",
        "outputId": "2b76d8bf-b546-4d6b-da13-fd8172c9025d"
      },
      "source": [
        "from trankit.iterators.ner_iterators import NERDataset\n",
        "test_set = NERDataset(\n",
        "    config=trainer._config,\n",
        "    bio_fpath='./data/test_cleaned.txt',\n",
        "    evaluate=True\n",
        ")\n",
        "test_set.numberize()\n",
        "test_batch_num = len(test_set) // trainer._config.batch_size + (len(test_set) % trainer._config.batch_size != 0)\n",
        "result = trainer._eval_ner(data_set=test_set, batch_num=test_batch_num,\n",
        "                           name='test', epoch=-1)"
      ],
      "execution_count": null,
      "outputs": [
        {
          "output_type": "stream",
          "text": [
            "test -1:   0%|                             | 2/625 [00:00<00:44, 13.97it/s]"
          ],
          "name": "stderr"
        },
        {
          "output_type": "stream",
          "text": [
            "Skipped 0 over-length examples\n",
            "Loaded 10000 examples\n"
          ],
          "name": "stdout"
        },
        {
          "output_type": "stream",
          "text": [
            "test -1: 100%|███████████████████████████| 625/625 [01:01<00:00, 10.24it/s]\n"
          ],
          "name": "stderr"
        }
      ]
    },
    {
      "cell_type": "code",
      "metadata": {
        "colab": {
          "base_uri": "https://localhost:8080/"
        },
        "id": "IWn7fv9c9q8H",
        "outputId": "08684750-e8f6-4ce3-db09-9392cfc93f49"
      },
      "source": [
        "print(result)"
      ],
      "execution_count": null,
      "outputs": [
        {
          "output_type": "stream",
          "text": [
            "{'p': 66.11087953313881, 'r': 71.69981916817359, 'f1': 68.79201908479723}\n"
          ],
          "name": "stdout"
        }
      ]
    },
    {
      "cell_type": "markdown",
      "metadata": {
        "id": "K9SaCcTjG877"
      },
      "source": [
        "## Running the trained model on the `test` set"
      ]
    },
    {
      "cell_type": "code",
      "metadata": {
        "id": "EtGj1ozAAcA1"
      },
      "source": [
        "!wget -q http://nlp.uoregon.edu/download/trankit/slovak.zip"
      ],
      "execution_count": null,
      "outputs": []
    },
    {
      "cell_type": "code",
      "metadata": {
        "colab": {
          "base_uri": "https://localhost:8080/"
        },
        "id": "Yiw8pCUHAnum",
        "outputId": "2d7aa5cb-46aa-40f7-e8b0-1e5b60715973"
      },
      "source": [
        "%%shell\n",
        "unzip -o slovak.zip"
      ],
      "execution_count": null,
      "outputs": [
        {
          "output_type": "stream",
          "text": [
            "Archive:  slovak.zip\n",
            " extracting: slovak.downloaded       \n",
            "  inflating: slovak_lemmatizer.pt    \n",
            "  inflating: slovak.tagger.mdl       \n",
            "  inflating: slovak.tokenizer.mdl    \n",
            "  inflating: slovak.vocabs.json      \n"
          ],
          "name": "stdout"
        },
        {
          "output_type": "execute_result",
          "data": {
            "text/plain": [
              ""
            ]
          },
          "metadata": {
            "tags": []
          },
          "execution_count": 10
        }
      ]
    },
    {
      "cell_type": "code",
      "metadata": {
        "id": "CTIui3esBgh2"
      },
      "source": [
        "!cp -a slovak.tagger.mdl  ./save_dir_filtered/customized-ner/customized-ner.tagger.mdl\n",
        "!cp -a slovak.vocabs.json  ./save_dir_filtered/customized-ner/customized-ner.vocabs.json\n",
        "!cp -a slovak_lemmatizer.pt  ./save_dir_filtered/customized-ner/customized-ner_lemmatizer.pt\n",
        "!cp -a slovak.tokenizer.mdl  ./save_dir_filtered/customized-ner/customized-ner.tokenizer.mdl"
      ],
      "execution_count": null,
      "outputs": []
    },
    {
      "cell_type": "code",
      "metadata": {
        "colab": {
          "base_uri": "https://localhost:8080/"
        },
        "id": "FgIC5z-wEAij",
        "outputId": "98fdbffb-7889-43c1-8dbb-6d682d2e88e4"
      },
      "source": [
        "trankit.verify_customized_pipeline(\n",
        "    category='customized-ner', # pipeline category\n",
        "    save_dir='./save_dir_filtered' # directory used for saving models in previous steps\n",
        ")"
      ],
      "execution_count": null,
      "outputs": [
        {
          "output_type": "stream",
          "text": [
            "Customized pipeline is ready to use!\n",
            "It can be initialized as follows:\n",
            "-----------------------------------\n",
            "from trankit import Pipeline\n",
            "p = Pipeline(lang='customized-ner', cache_dir='./save_dir_filtered')\n"
          ],
          "name": "stdout"
        }
      ]
    },
    {
      "cell_type": "markdown",
      "metadata": {
        "id": "qkIKFw5OG0l7"
      },
      "source": [
        "## Using the pretrained model in a Pipeline"
      ]
    },
    {
      "cell_type": "code",
      "metadata": {
        "id": "td9K2NnvHCHy"
      },
      "source": [
        "from trankit import Pipeline"
      ],
      "execution_count": null,
      "outputs": []
    },
    {
      "cell_type": "code",
      "metadata": {
        "colab": {
          "base_uri": "https://localhost:8080/",
          "height": 389,
          "referenced_widgets": [
            "eef6a0eac2d149e5b0f30b400be622f7",
            "d607d5a6316246aaa1aa7c12e2e223aa",
            "373cb55f03c946259cc28bb4d9465adf",
            "f9dca89b77fd47929cc53a108fb6b289",
            "b0c33089cbba418bba8f76a79d8f54f2",
            "e197e4e8ebdc43919c6d0f415f6cd1b3",
            "d3ab2e9ddda143808814fb93f7f52bc1",
            "805ccc2256904073ae450c62378aa049"
          ]
        },
        "id": "VyAE2Vc2HFB9",
        "outputId": "468599f8-4ac3-4847-fb09-7d81581f0181"
      },
      "source": [
        "p = Pipeline(lang='customized-ner', cache_dir='./save_dir_filtered')"
      ],
      "execution_count": null,
      "outputs": [
        {
          "output_type": "display_data",
          "data": {
            "application/vnd.jupyter.widget-view+json": {
              "model_id": "eef6a0eac2d149e5b0f30b400be622f7",
              "version_minor": 0,
              "version_major": 2
            },
            "text/plain": [
              "HBox(children=(FloatProgress(value=0.0, description='Downloading', max=5069051.0, style=ProgressStyle(descript…"
            ]
          },
          "metadata": {
            "tags": []
          }
        },
        {
          "output_type": "stream",
          "text": [
            "\n",
            "http://nlp.uoregon.edu/download/trankit/v1.0.0/xlm-roberta-base/customized-ner.zip\n"
          ],
          "name": "stdout"
        },
        {
          "output_type": "stream",
          "text": [
            "Downloading: 100%|██████████| 196/196 [00:00<00:00, 63.8kiB/s]\n"
          ],
          "name": "stderr"
        },
        {
          "output_type": "error",
          "ename": "BadZipFile",
          "evalue": "ignored",
          "traceback": [
            "\u001b[0;31m---------------------------------------------------------------------------\u001b[0m",
            "\u001b[0;31mBadZipFile\u001b[0m                                Traceback (most recent call last)",
            "\u001b[0;32m<ipython-input-14-9b94aaceeb62>\u001b[0m in \u001b[0;36m<module>\u001b[0;34m()\u001b[0m\n\u001b[0;32m----> 1\u001b[0;31m \u001b[0mp\u001b[0m \u001b[0;34m=\u001b[0m \u001b[0mPipeline\u001b[0m\u001b[0;34m(\u001b[0m\u001b[0mlang\u001b[0m\u001b[0;34m=\u001b[0m\u001b[0;34m'customized-ner'\u001b[0m\u001b[0;34m,\u001b[0m \u001b[0mcache_dir\u001b[0m\u001b[0;34m=\u001b[0m\u001b[0;34m'./save_dir_filtered'\u001b[0m\u001b[0;34m)\u001b[0m\u001b[0;34m\u001b[0m\u001b[0;34m\u001b[0m\u001b[0m\n\u001b[0m",
            "\u001b[0;32m/usr/local/lib/python3.7/dist-packages/trankit/pipeline.py\u001b[0m in \u001b[0;36m__init__\u001b[0;34m(self, lang, cache_dir, gpu, embedding)\u001b[0m\n\u001b[1;32m     72\u001b[0m             \u001b[0mlanguage\u001b[0m\u001b[0;34m=\u001b[0m\u001b[0mlang\u001b[0m\u001b[0;34m,\u001b[0m\u001b[0;34m\u001b[0m\u001b[0;34m\u001b[0m\u001b[0m\n\u001b[1;32m     73\u001b[0m             \u001b[0msaved_model_version\u001b[0m\u001b[0;34m=\u001b[0m\u001b[0;34m'v1.0.0'\u001b[0m\u001b[0;34m,\u001b[0m  \u001b[0;31m# manually set this to avoid duplicated storage\u001b[0m\u001b[0;34m\u001b[0m\u001b[0;34m\u001b[0m\u001b[0m\n\u001b[0;32m---> 74\u001b[0;31m             \u001b[0membedding_name\u001b[0m\u001b[0;34m=\u001b[0m\u001b[0mmaster_config\u001b[0m\u001b[0;34m.\u001b[0m\u001b[0membedding_name\u001b[0m\u001b[0;34m\u001b[0m\u001b[0;34m\u001b[0m\u001b[0m\n\u001b[0m\u001b[1;32m     75\u001b[0m         )\n\u001b[1;32m     76\u001b[0m \u001b[0;34m\u001b[0m\u001b[0m\n",
            "\u001b[0;32m/usr/local/lib/python3.7/dist-packages/trankit/utils/base_utils.py\u001b[0m in \u001b[0;36mdownload\u001b[0;34m(cache_dir, language, saved_model_version, embedding_name)\u001b[0m\n\u001b[1;32m     77\u001b[0m                 \u001b[0mfile\u001b[0m\u001b[0;34m.\u001b[0m\u001b[0mwrite\u001b[0m\u001b[0;34m(\u001b[0m\u001b[0mdata\u001b[0m\u001b[0;34m)\u001b[0m\u001b[0;34m\u001b[0m\u001b[0;34m\u001b[0m\u001b[0m\n\u001b[1;32m     78\u001b[0m         \u001b[0mprogress_bar\u001b[0m\u001b[0;34m.\u001b[0m\u001b[0mclose\u001b[0m\u001b[0;34m(\u001b[0m\u001b[0;34m)\u001b[0m\u001b[0;34m\u001b[0m\u001b[0;34m\u001b[0m\u001b[0m\n\u001b[0;32m---> 79\u001b[0;31m         \u001b[0munzip\u001b[0m\u001b[0;34m(\u001b[0m\u001b[0mlang_dir\u001b[0m\u001b[0;34m,\u001b[0m \u001b[0;34m'{}.zip'\u001b[0m\u001b[0;34m.\u001b[0m\u001b[0mformat\u001b[0m\u001b[0;34m(\u001b[0m\u001b[0mlanguage\u001b[0m\u001b[0;34m)\u001b[0m\u001b[0;34m)\u001b[0m\u001b[0;34m\u001b[0m\u001b[0;34m\u001b[0m\u001b[0m\n\u001b[0m\u001b[1;32m     80\u001b[0m         \u001b[0;32mif\u001b[0m \u001b[0mtotal_size_in_bytes\u001b[0m \u001b[0;34m!=\u001b[0m \u001b[0;36m0\u001b[0m \u001b[0;32mand\u001b[0m \u001b[0mprogress_bar\u001b[0m\u001b[0;34m.\u001b[0m\u001b[0mn\u001b[0m \u001b[0;34m!=\u001b[0m \u001b[0mtotal_size_in_bytes\u001b[0m\u001b[0;34m:\u001b[0m\u001b[0;34m\u001b[0m\u001b[0;34m\u001b[0m\u001b[0m\n\u001b[1;32m     81\u001b[0m             \u001b[0mprint\u001b[0m\u001b[0;34m(\u001b[0m\u001b[0;34m\"Failed to download saved models for {}!\"\u001b[0m\u001b[0;34m.\u001b[0m\u001b[0mformat\u001b[0m\u001b[0;34m(\u001b[0m\u001b[0mlanguage\u001b[0m\u001b[0;34m)\u001b[0m\u001b[0;34m)\u001b[0m\u001b[0;34m\u001b[0m\u001b[0;34m\u001b[0m\u001b[0m\n",
            "\u001b[0;32m/usr/local/lib/python3.7/dist-packages/trankit/utils/base_utils.py\u001b[0m in \u001b[0;36munzip\u001b[0;34m(dir, filename)\u001b[0m\n\u001b[1;32m     53\u001b[0m \u001b[0;34m\u001b[0m\u001b[0m\n\u001b[1;32m     54\u001b[0m \u001b[0;32mdef\u001b[0m \u001b[0munzip\u001b[0m\u001b[0;34m(\u001b[0m\u001b[0mdir\u001b[0m\u001b[0;34m,\u001b[0m \u001b[0mfilename\u001b[0m\u001b[0;34m)\u001b[0m\u001b[0;34m:\u001b[0m\u001b[0;34m\u001b[0m\u001b[0;34m\u001b[0m\u001b[0m\n\u001b[0;32m---> 55\u001b[0;31m     \u001b[0;32mwith\u001b[0m \u001b[0mzipfile\u001b[0m\u001b[0;34m.\u001b[0m\u001b[0mZipFile\u001b[0m\u001b[0;34m(\u001b[0m\u001b[0mos\u001b[0m\u001b[0;34m.\u001b[0m\u001b[0mpath\u001b[0m\u001b[0;34m.\u001b[0m\u001b[0mjoin\u001b[0m\u001b[0;34m(\u001b[0m\u001b[0mdir\u001b[0m\u001b[0;34m,\u001b[0m \u001b[0mfilename\u001b[0m\u001b[0;34m)\u001b[0m\u001b[0;34m)\u001b[0m \u001b[0;32mas\u001b[0m \u001b[0mf\u001b[0m\u001b[0;34m:\u001b[0m\u001b[0;34m\u001b[0m\u001b[0;34m\u001b[0m\u001b[0m\n\u001b[0m\u001b[1;32m     56\u001b[0m         \u001b[0mf\u001b[0m\u001b[0;34m.\u001b[0m\u001b[0mextractall\u001b[0m\u001b[0;34m(\u001b[0m\u001b[0mdir\u001b[0m\u001b[0;34m)\u001b[0m\u001b[0;34m\u001b[0m\u001b[0;34m\u001b[0m\u001b[0m\n\u001b[1;32m     57\u001b[0m     \u001b[0mos\u001b[0m\u001b[0;34m.\u001b[0m\u001b[0mremove\u001b[0m\u001b[0;34m(\u001b[0m\u001b[0mos\u001b[0m\u001b[0;34m.\u001b[0m\u001b[0mpath\u001b[0m\u001b[0;34m.\u001b[0m\u001b[0mjoin\u001b[0m\u001b[0;34m(\u001b[0m\u001b[0mdir\u001b[0m\u001b[0;34m,\u001b[0m \u001b[0mfilename\u001b[0m\u001b[0;34m)\u001b[0m\u001b[0;34m)\u001b[0m\u001b[0;34m\u001b[0m\u001b[0;34m\u001b[0m\u001b[0m\n",
            "\u001b[0;32m/usr/lib/python3.7/zipfile.py\u001b[0m in \u001b[0;36m__init__\u001b[0;34m(self, file, mode, compression, allowZip64, compresslevel)\u001b[0m\n\u001b[1;32m   1256\u001b[0m         \u001b[0;32mtry\u001b[0m\u001b[0;34m:\u001b[0m\u001b[0;34m\u001b[0m\u001b[0;34m\u001b[0m\u001b[0m\n\u001b[1;32m   1257\u001b[0m             \u001b[0;32mif\u001b[0m \u001b[0mmode\u001b[0m \u001b[0;34m==\u001b[0m \u001b[0;34m'r'\u001b[0m\u001b[0;34m:\u001b[0m\u001b[0;34m\u001b[0m\u001b[0;34m\u001b[0m\u001b[0m\n\u001b[0;32m-> 1258\u001b[0;31m                 \u001b[0mself\u001b[0m\u001b[0;34m.\u001b[0m\u001b[0m_RealGetContents\u001b[0m\u001b[0;34m(\u001b[0m\u001b[0;34m)\u001b[0m\u001b[0;34m\u001b[0m\u001b[0;34m\u001b[0m\u001b[0m\n\u001b[0m\u001b[1;32m   1259\u001b[0m             \u001b[0;32melif\u001b[0m \u001b[0mmode\u001b[0m \u001b[0;32min\u001b[0m \u001b[0;34m(\u001b[0m\u001b[0;34m'w'\u001b[0m\u001b[0;34m,\u001b[0m \u001b[0;34m'x'\u001b[0m\u001b[0;34m)\u001b[0m\u001b[0;34m:\u001b[0m\u001b[0;34m\u001b[0m\u001b[0;34m\u001b[0m\u001b[0m\n\u001b[1;32m   1260\u001b[0m                 \u001b[0;31m# set the modified flag so central directory gets written\u001b[0m\u001b[0;34m\u001b[0m\u001b[0;34m\u001b[0m\u001b[0;34m\u001b[0m\u001b[0m\n",
            "\u001b[0;32m/usr/lib/python3.7/zipfile.py\u001b[0m in \u001b[0;36m_RealGetContents\u001b[0;34m(self)\u001b[0m\n\u001b[1;32m   1323\u001b[0m             \u001b[0;32mraise\u001b[0m \u001b[0mBadZipFile\u001b[0m\u001b[0;34m(\u001b[0m\u001b[0;34m\"File is not a zip file\"\u001b[0m\u001b[0;34m)\u001b[0m\u001b[0;34m\u001b[0m\u001b[0;34m\u001b[0m\u001b[0m\n\u001b[1;32m   1324\u001b[0m         \u001b[0;32mif\u001b[0m \u001b[0;32mnot\u001b[0m \u001b[0mendrec\u001b[0m\u001b[0;34m:\u001b[0m\u001b[0;34m\u001b[0m\u001b[0;34m\u001b[0m\u001b[0m\n\u001b[0;32m-> 1325\u001b[0;31m             \u001b[0;32mraise\u001b[0m \u001b[0mBadZipFile\u001b[0m\u001b[0;34m(\u001b[0m\u001b[0;34m\"File is not a zip file\"\u001b[0m\u001b[0;34m)\u001b[0m\u001b[0;34m\u001b[0m\u001b[0;34m\u001b[0m\u001b[0m\n\u001b[0m\u001b[1;32m   1326\u001b[0m         \u001b[0;32mif\u001b[0m \u001b[0mself\u001b[0m\u001b[0;34m.\u001b[0m\u001b[0mdebug\u001b[0m \u001b[0;34m>\u001b[0m \u001b[0;36m1\u001b[0m\u001b[0;34m:\u001b[0m\u001b[0;34m\u001b[0m\u001b[0;34m\u001b[0m\u001b[0m\n\u001b[1;32m   1327\u001b[0m             \u001b[0mprint\u001b[0m\u001b[0;34m(\u001b[0m\u001b[0mendrec\u001b[0m\u001b[0;34m)\u001b[0m\u001b[0;34m\u001b[0m\u001b[0;34m\u001b[0m\u001b[0m\n",
            "\u001b[0;31mBadZipFile\u001b[0m: File is not a zip file"
          ]
        }
      ]
    },
    {
      "cell_type": "code",
      "metadata": {
        "colab": {
          "base_uri": "https://localhost:8080/",
          "height": 163
        },
        "id": "gMJAhFgxHv0K",
        "outputId": "41341939-4e80-4cdb-92f5-24f0ce71b013"
      },
      "source": [
        "p.ner('''Vlani súd v Bratislave vymeral Marošovi Deákovi 25 rokov väzenia za rôzne zločiny''', is_sent=True)"
      ],
      "execution_count": null,
      "outputs": [
        {
          "output_type": "error",
          "ename": "NameError",
          "evalue": "ignored",
          "traceback": [
            "\u001b[0;31m---------------------------------------------------------------------------\u001b[0m",
            "\u001b[0;31mNameError\u001b[0m                                 Traceback (most recent call last)",
            "\u001b[0;32m<ipython-input-15-2b1693b1564d>\u001b[0m in \u001b[0;36m<module>\u001b[0;34m()\u001b[0m\n\u001b[0;32m----> 1\u001b[0;31m \u001b[0mp\u001b[0m\u001b[0;34m.\u001b[0m\u001b[0mner\u001b[0m\u001b[0;34m(\u001b[0m\u001b[0;34m'''Vlani súd v Bratislave vymeral Marošovi Deákovi 25 rokov väzenia za rôzne zločiny'''\u001b[0m\u001b[0;34m,\u001b[0m \u001b[0mis_sent\u001b[0m\u001b[0;34m=\u001b[0m\u001b[0;32mTrue\u001b[0m\u001b[0;34m)\u001b[0m\u001b[0;34m\u001b[0m\u001b[0;34m\u001b[0m\u001b[0m\n\u001b[0m",
            "\u001b[0;31mNameError\u001b[0m: name 'p' is not defined"
          ]
        }
      ]
    }
  ]
}